{
 "cells": [
  {
   "cell_type": "markdown",
   "metadata": {},
   "source": [
    "# Airbnb Data -Seattle (2019)"
   ]
  },
  {
   "cell_type": "code",
   "execution_count": 9,
   "metadata": {},
   "outputs": [],
   "source": [
    "# importing dependencies\n",
    "import pandas as pd\n",
    "import numpy as np\n",
    "import os"
   ]
  },
  {
   "cell_type": "code",
   "execution_count": 2,
   "metadata": {},
   "outputs": [],
   "source": [
    "# locating each csv file\n",
    "path1 = \"Resources/listings_feb.csv\"\n",
    "path2 = \"Resources/listings_mar.csv\"\n",
    "path3 = \"Resources/listings_april.csv\"\n",
    "path4 = \"Resources/listings_may.csv\"\n",
    "path5 = \"Resources/listings_june.csv\"\n",
    "path6 = \"Resources/listings_july.csv\"\n",
    "path7 = \"Resources/listings_aug.csv\"\n",
    "path8 = \"Resources/listings_sept.csv\""
   ]
  },
  {
   "cell_type": "code",
   "execution_count": 3,
   "metadata": {},
   "outputs": [],
   "source": [
    "# reading csv and providing dataframe name\n",
    "listing_df1 = pd.read_csv(path1)\n",
    "listing_df2 = pd.read_csv(path2)\n",
    "listing_df3 = pd.read_csv(path3)\n",
    "listing_df4 = pd.read_csv(path4)\n",
    "listing_df5 = pd.read_csv(path5)\n",
    "listing_df6 = pd.read_csv(path6)\n",
    "listing_df7 = pd.read_csv(path7)\n",
    "listing_df8 = pd.read_csv(path8)"
   ]
  },
  {
   "cell_type": "code",
   "execution_count": 4,
   "metadata": {},
   "outputs": [
    {
     "data": {
      "text/plain": [
       "Index(['id', 'name', 'neighbourhood_group', 'neighbourhood', 'room_type',\n",
       "       'price', 'minimum_nights', 'number_of_reviews', 'reviews_per_month',\n",
       "       'calculated_host_listings_count'],\n",
       "      dtype='object')"
      ]
     },
     "execution_count": 4,
     "metadata": {},
     "output_type": "execute_result"
    }
   ],
   "source": [
    "# Dropping unnecessary columns from each csv\n",
    "\n",
    "L1 = listing_df1.drop(['host_name', 'host_id', 'latitude', 'longitude', 'last_review', 'availability_365'], axis = 1)\n",
    "L2 = listing_df2.drop(['host_name', 'host_id', 'latitude', 'longitude', 'last_review', 'availability_365'], axis = 1)\n",
    "L3 = listing_df3.drop(['host_name', 'host_id', 'latitude', 'longitude', 'last_review', 'availability_365'], axis = 1)\n",
    "L4 = listing_df4.drop(['host_name', 'host_id', 'latitude', 'longitude', 'last_review', 'availability_365'], axis = 1)\n",
    "L5 = listing_df5.drop(['host_name', 'host_id', 'latitude', 'longitude', 'last_review', 'availability_365'], axis = 1)\n",
    "L6 = listing_df6.drop(['host_name', 'host_id', 'latitude', 'longitude', 'last_review', 'availability_365'], axis = 1)\n",
    "L7 = listing_df7.drop(['host_name', 'host_id', 'latitude', 'longitude', 'last_review', 'availability_365'], axis = 1)\n",
    "L8 = listing_df8.drop(['host_name', 'host_id', 'latitude', 'longitude', 'last_review', 'availability_365'], axis = 1)\n",
    "L8.columns"
   ]
  },
  {
   "cell_type": "code",
   "execution_count": 5,
   "metadata": {},
   "outputs": [],
   "source": [
    "# Renaming columns for easier join later\n",
    "\n",
    "L1.rename(columns= {'price':'p1','minimum_nights':'min_nights1', 'number_of_reviews':'reviews_no.1', \n",
    "                    'reviews_per_month':'reviews_month1','calculated_host_listings_count':'listings_count1'},inplace = True)\n",
    "L2.rename(columns= {'price':'p2','minimum_nights':'min_nights2', 'number_of_reviews':'reviews_no.2', \n",
    "                    'reviews_per_month':'reviews_month2','calculated_host_listings_count':'listings_count2'},inplace = True)\n",
    "L3.rename(columns= {'price':'p3','minimum_nights':'min_nights3', 'number_of_reviews':'reviews_no.3', \n",
    "                    'reviews_per_month':'reviews_month3','calculated_host_listings_count':'listings_count3'},inplace = True)\n",
    "L4.rename(columns= {'price':'p4','minimum_nights':'min_nights4', 'number_of_reviews':'reviews_no.4', \n",
    "                    'reviews_per_month':'reviews_month4','calculated_host_listings_count':'listings_count4'},inplace = True)\n",
    "L5.rename(columns= {'price':'p5','minimum_nights':'min_nights5', 'number_of_reviews':'reviews_no.5', \n",
    "                    'reviews_per_month':'reviews_month5','calculated_host_listings_count':'listings_count5'},inplace = True)\n",
    "L6.rename(columns= {'price':'p6','minimum_nights':'min_nights6', 'number_of_reviews':'reviews_no.6', \n",
    "                    'reviews_per_month':'reviews_month6','calculated_host_listings_count':'listings_count6'},inplace = True)\n",
    "L7.rename(columns= {'price':'p7','minimum_nights':'min_nights7', 'number_of_reviews':'reviews_no.7', \n",
    "                    'reviews_per_month':'reviews_month7','calculated_host_listings_count':'listings_count7'},inplace = True)\n",
    "L8.rename(columns= {'price':'p8','minimum_nights':'min_nights8', 'number_of_reviews':'reviews_no.8', \n",
    "                    'reviews_per_month':'reviews_month8','calculated_host_listings_count':'listings_count8'},inplace = True)"
   ]
  },
  {
   "cell_type": "code",
   "execution_count": 6,
   "metadata": {},
   "outputs": [
    {
     "data": {
      "text/plain": [
       "Index(['name', 'neighbourhood_group', 'neighbourhood', 'room_type', 'p1',\n",
       "       'min_nights1', 'reviews_no.1', 'reviews_month1', 'listings_count1',\n",
       "       'p2', 'min_nights2', 'reviews_no.2', 'reviews_month2',\n",
       "       'listings_count2', 'p3', 'min_nights3', 'reviews_no.3',\n",
       "       'reviews_month3', 'listings_count3', 'p4', 'min_nights4',\n",
       "       'reviews_no.4', 'reviews_month4', 'listings_count4', 'p5',\n",
       "       'min_nights5', 'reviews_no.5', 'reviews_month5', 'listings_count5',\n",
       "       'p6', 'min_nights6', 'reviews_no.6', 'reviews_month6',\n",
       "       'listings_count6', 'p7', 'min_nights7', 'reviews_no.7',\n",
       "       'reviews_month7', 'listings_count7', 'p8', 'min_nights8',\n",
       "       'reviews_no.8', 'reviews_month8', 'listings_count8'],\n",
       "      dtype='object')"
      ]
     },
     "execution_count": 6,
     "metadata": {},
     "output_type": "execute_result"
    }
   ],
   "source": [
    "# joining csv file sequentially and dropping repetitive columns\n",
    "\n",
    "Join1 = L1.set_index('id').join(L2.set_index('id'), rsuffix='_right')\n",
    "df1 = Join1.drop(['name_right', 'neighbourhood_group_right', 'neighbourhood_right','room_type_right',], axis = 1)\n",
    "Join2 = df1.join(L3.set_index('id'), rsuffix='_right')\n",
    "df2 = Join2.drop(['name_right', 'neighbourhood_group_right', 'neighbourhood_right','room_type_right',], axis = 1)\n",
    "Join3 = df2.join(L4.set_index('id'), rsuffix='_right')\n",
    "df3 = Join3.drop(['name_right', 'neighbourhood_group_right', 'neighbourhood_right','room_type_right',], axis = 1)\n",
    "Join4 = df3.join(L5.set_index('id'), rsuffix='_right')\n",
    "df4 = Join4.drop(['name_right', 'neighbourhood_group_right', 'neighbourhood_right','room_type_right',], axis = 1)\n",
    "Join5 = df4.join(L6.set_index('id'), rsuffix='_right')\n",
    "df5 = Join5.drop(['name_right', 'neighbourhood_group_right', 'neighbourhood_right','room_type_right',], axis = 1)\n",
    "Join6 = df5.join(L7.set_index('id'), rsuffix='_right')\n",
    "df6 = Join6.drop(['name_right', 'neighbourhood_group_right', 'neighbourhood_right','room_type_right',], axis = 1)\n",
    "Join7 = df6.join(L8.set_index('id'), rsuffix='_right')\n",
    "df7 = Join7.drop(['name_right', 'neighbourhood_group_right', 'neighbourhood_right','room_type_right',], axis = 1)\n",
    "df7.columns"
   ]
  },
  {
   "cell_type": "code",
   "execution_count": 7,
   "metadata": {},
   "outputs": [],
   "source": [
    "# Rearranging columns\n",
    "datafile = df7[['name', 'neighbourhood_group', 'neighbourhood', 'room_type','p1','p2','p3', 'p4','p5','p6','p7','p8',\n",
    "               'min_nights1', 'min_nights2', 'min_nights3', 'min_nights4', 'min_nights5', 'min_nights6', 'min_nights7',\n",
    "               'min_nights8','reviews_no.1','reviews_no.2','reviews_no.3','reviews_no.4','reviews_no.5','reviews_no.6',\n",
    "               'reviews_no.7','reviews_no.8','reviews_month1', 'reviews_month2', 'reviews_month3', 'reviews_month4', \n",
    "               'reviews_month5', 'reviews_month6', 'reviews_month7', 'reviews_month8','listings_count1','listings_count2',\n",
    "               'listings_count3','listings_count4','listings_count5','listings_count6','listings_count7','listings_count8'\n",
    "               ]].copy()\n"
   ]
  },
  {
   "cell_type": "code",
   "execution_count": 11,
   "metadata": {},
   "outputs": [],
   "source": [
    "# Saved cleaned dataframe in the Resources-foler with name Airbnb.csv\n",
    "datapath = \"Resources\"\n",
    "datafile.to_csv(os.path.join(datapath,r'Airbnb.csv'))"
   ]
  },
  {
   "cell_type": "code",
   "execution_count": 24,
   "metadata": {},
   "outputs": [],
   "source": [
    "\n"
   ]
  },
  {
   "cell_type": "code",
   "execution_count": 25,
   "metadata": {},
   "outputs": [],
   "source": []
  },
  {
   "cell_type": "code",
   "execution_count": 26,
   "metadata": {},
   "outputs": [],
   "source": []
  },
  {
   "cell_type": "code",
   "execution_count": null,
   "metadata": {},
   "outputs": [],
   "source": []
  },
  {
   "cell_type": "code",
   "execution_count": null,
   "metadata": {},
   "outputs": [],
   "source": []
  }
 ],
 "metadata": {
  "kernelspec": {
   "display_name": "Python 3",
   "language": "python",
   "name": "python3"
  },
  "language_info": {
   "codemirror_mode": {
    "name": "ipython",
    "version": 3
   },
   "file_extension": ".py",
   "mimetype": "text/x-python",
   "name": "python",
   "nbconvert_exporter": "python",
   "pygments_lexer": "ipython3",
   "version": "3.7.1"
  }
 },
 "nbformat": 4,
 "nbformat_minor": 2
}
